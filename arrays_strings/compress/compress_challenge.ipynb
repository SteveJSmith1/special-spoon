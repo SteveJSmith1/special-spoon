{
 "cells": [
  {
   "cell_type": "markdown",
   "metadata": {},
   "source": [
    "# Compress\n",
    "# Challenge Notebook"
   ]
  },
  {
   "cell_type": "markdown",
   "metadata": {},
   "source": [
    "Solution implemented by [SteveJSmith](https://github.com/SteveJSmith1)"
   ]
  },
  {
   "cell_type": "markdown",
   "metadata": {},
   "source": [
    "This notebook was prepared by [Donne Martin](http://donnemartin.com). Source and license info is on [GitHub](https://github.com/donnemartin/interactive-coding-challenges)."
   ]
  },
  {
   "cell_type": "markdown",
   "metadata": {},
   "source": [
    "## Problem: Compress a string such that 'AAABCCDDDD' becomes 'A3BC2D4'.  Only compress the string if it saves space.\n",
    "\n",
    "* [Constraints](#Constraints)\n",
    "* [Test Cases](#Test-Cases)\n",
    "* [Algorithm](#Algorithm)\n",
    "* [Code](#Code)\n",
    "* [Unit Test](#Unit-Test)\n",
    "* [Solution Notebook](#Solution-Notebook)"
   ]
  },
  {
   "cell_type": "markdown",
   "metadata": {},
   "source": [
    "## Constraints\n",
    "\n",
    "* Can we assume the string is ASCII?\n",
    "    * Yes\n",
    "    * Note: Unicode strings could require special handling depending on your language\n",
    "* Is this case sensitive?\n",
    "    * Yes\n",
    "* Can we use additional data structures?  \n",
    "    * Yes\n",
    "* Can we assume this fits in memory?\n",
    "    * Yes"
   ]
  },
  {
   "cell_type": "markdown",
   "metadata": {},
   "source": [
    "## Test Cases\n",
    "\n",
    "* None -> None\n",
    "* '' -> ''\n",
    "* 'AABBCC' -> 'AABBCC'\n",
    "* 'AAABCCDDDD' -> 'A3BC2D4'"
   ]
  },
  {
   "cell_type": "markdown",
   "metadata": {},
   "source": [
    "## Algorithm\n",
    "\n",
    "* return None for None\n",
    "* use groupby to group the characters\n",
    "* create a list of the characters and their frequency\n",
    "    * replace 1 with '' to compress\n",
    "    * join elements in the list to create the compressed string\n",
    "    * check if compressed string has a length less than the string\n",
    "        * return compressed if True\n",
    "        * return string if False"
   ]
  },
  {
   "cell_type": "markdown",
   "metadata": {},
   "source": [
    "## Code"
   ]
  },
  {
   "cell_type": "code",
   "execution_count": 1,
   "metadata": {
    "collapsed": false
   },
   "outputs": [],
   "source": [
    "class CompressString(object):\n",
    "\n",
    "    def compress(self, string):\n",
    "        # Check for None\n",
    "        if string == None:\n",
    "            return None\n",
    "        \n",
    "        from itertools import groupby\n",
    "        # creating groups for the string\n",
    "        groups = groupby(string)\n",
    "        # Creating a list of the grouped values\n",
    "        result = [(label, sum(1 for _ in group)) for label, group in groups]\n",
    "        # Replacing 1 with ''\n",
    "        result = [(char, '') if count == 1 else (char, count) for char, count in result]\n",
    "        # join the chars and values\n",
    "        compressed = \"\".join(\"{}{}\".format(label, count) for label, count in result)\n",
    "        # CHecking for a size difference\n",
    "        if len(compressed) < len(string):\n",
    "            return compressed\n",
    "        else:\n",
    "            return string"
   ]
  },
  {
   "cell_type": "markdown",
   "metadata": {},
   "source": [
    "## Unit Test"
   ]
  },
  {
   "cell_type": "markdown",
   "metadata": {},
   "source": [
    "\n",
    "\n",
    "**The following unit test is expected to fail until you solve the challenge.**"
   ]
  },
  {
   "cell_type": "code",
   "execution_count": 2,
   "metadata": {
    "collapsed": false
   },
   "outputs": [
    {
     "name": "stdout",
     "output_type": "stream",
     "text": [
      "Success: test_compress\n"
     ]
    }
   ],
   "source": [
    "# %load test_compress.py\n",
    "from nose.tools import assert_equal\n",
    "\n",
    "\n",
    "class TestCompress(object):\n",
    "\n",
    "    def test_compress(self, func):\n",
    "        assert_equal(func(None), None)\n",
    "        assert_equal(func(''), '')\n",
    "        assert_equal(func('AABBCC'), 'AABBCC')\n",
    "        assert_equal(func('AAABCCDDDDE'), 'A3BC2D4E')\n",
    "        assert_equal(func('BAAACCDDDD'), 'BA3C2D4')\n",
    "        assert_equal(func('AAABAACCDDDD'), 'A3BA2C2D4')\n",
    "        print('Success: test_compress')\n",
    "\n",
    "\n",
    "def main():\n",
    "    test = TestCompress()\n",
    "    compress_string = CompressString()\n",
    "    test.test_compress(compress_string.compress)\n",
    "\n",
    "\n",
    "if __name__ == '__main__':\n",
    "    main()"
   ]
  },
  {
   "cell_type": "markdown",
   "metadata": {},
   "source": [
    "## Solution Notebook\n",
    "\n",
    "Review the [Solution Notebook](http://nbviewer.ipython.org/github/donnemartin/interactive-coding-challenges/blob/master/arrays_strings/compress/compress_solution.ipynb) for a discussion on algorithms and code solutions."
   ]
  }
 ],
 "metadata": {
  "kernelspec": {
   "display_name": "Python 3",
   "language": "python",
   "name": "python3"
  },
  "language_info": {
   "codemirror_mode": {
    "name": "ipython",
    "version": 3
   },
   "file_extension": ".py",
   "mimetype": "text/x-python",
   "name": "python",
   "nbconvert_exporter": "python",
   "pygments_lexer": "ipython3",
   "version": "3.6.0"
  }
 },
 "nbformat": 4,
 "nbformat_minor": 0
}
