{
 "cells": [
  {
   "cell_type": "markdown",
   "metadata": {},
   "source": [
    "# Fizz Buzz\n",
    "# Challenge Notebook"
   ]
  },
  {
   "cell_type": "markdown",
   "metadata": {},
   "source": [
    "Solution implemented by [SteveJSmith](https://github.com/SteveJSmith1)"
   ]
  },
  {
   "cell_type": "markdown",
   "metadata": {},
   "source": [
    "This notebook was prepared by [Donne Martin](https://github.com/donnemartin). Source and license info is on [GitHub](https://github.com/donnemartin/interactive-coding-challenges)."
   ]
  },
  {
   "cell_type": "markdown",
   "metadata": {},
   "source": [
    "## Problem: Implement Fizz Buzz.\n",
    "\n",
    "* [Constraints](#Constraints)\n",
    "* [Test Cases](#Test-Cases)\n",
    "* [Algorithm](#Algorithm)\n",
    "* [Code](#Code)\n",
    "* [Unit Test](#Unit-Test)\n",
    "* [Solution Notebook](#Solution-Notebook)"
   ]
  },
  {
   "cell_type": "markdown",
   "metadata": {},
   "source": [
    "## Constraints\n",
    "\n",
    "* What is fizz buzz?\n",
    "    * Return the string representation of numbers from 1 to n\n",
    "        * Multiples of 3 -> 'Fizz'\n",
    "        * Multiples of 5 -> 'Buzz'\n",
    "        * Multiples of 3 and 5 -> 'FizzBuzz'\n",
    "* Can we assume the inputs are valid?\n",
    "    * No\n",
    "* Can we assume this fits memory?\n",
    "    * Yes"
   ]
  },
  {
   "cell_type": "markdown",
   "metadata": {},
   "source": [
    "## Test Cases\n",
    "\n",
    "<pre>\n",
    "* None -> Exception\n",
    "* < 1 -> Exception\n",
    "* 15 ->\n",
    "[\n",
    "    '1',\n",
    "    '2',\n",
    "    'Fizz',\n",
    "    '4',\n",
    "    'Buzz',\n",
    "    'Fizz',\n",
    "    '7',\n",
    "    '8',\n",
    "    'Fizz',\n",
    "    'Buzz',\n",
    "    '11',\n",
    "    'Fizz',\n",
    "    '13',\n",
    "    '14',\n",
    "    'FizzBuzz'\n",
    "]\n",
    "</pre>"
   ]
  },
  {
   "cell_type": "markdown",
   "metadata": {},
   "source": [
    "## Algorithm\n",
    "\n",
    "* Check input\n",
    "    * Raise TypeError for None\n",
    "    * Raise ValueError for 0\n",
    "* for n in range(num)\n",
    "    * if n divisible by 15:\n",
    "        * n is FizzBuzz\n",
    "    * elif n divisible by 5:\n",
    "        * n is Buzz\n",
    "    * elif n divisible by 3:\n",
    "        * n is Fizz\n",
    "    * else \n",
    "        * n is str(n)"
   ]
  },
  {
   "cell_type": "markdown",
   "metadata": {},
   "source": [
    "## Code"
   ]
  },
  {
   "cell_type": "code",
   "execution_count": 64,
   "metadata": {
    "collapsed": false
   },
   "outputs": [],
   "source": [
    "class Solution(object):\n",
    "\n",
    "    def fizz_buzz(self, num):\n",
    "        # Raising errors based on input\n",
    "        if num is None:\n",
    "            raise TypeError('A number must be given')\n",
    "        if num == 0:\n",
    "            raise ValueError('A number greater than zero must be given')\n",
    "        # Create Fizz/Buzz/FizzBuzz using conditional expression\n",
    "        # Output numbers as strings as required\n",
    "        return ['FizzBuzz' if n % 15 == 0 else 'Buzz' if n % 5 ==0 \\\n",
    "            else 'Fizz' if n % 3 == 0 else str(n) \\\n",
    "                for n in range(1, num + 1)]\n",
    "        "
   ]
  },
  {
   "cell_type": "markdown",
   "metadata": {},
   "source": [
    "## Unit Test"
   ]
  },
  {
   "cell_type": "markdown",
   "metadata": {},
   "source": [
    "**The following unit test is expected to fail until you solve the challenge.**"
   ]
  },
  {
   "cell_type": "code",
   "execution_count": 65,
   "metadata": {
    "collapsed": false
   },
   "outputs": [
    {
     "name": "stdout",
     "output_type": "stream",
     "text": [
      "Success: test_fizz_buzz\n"
     ]
    }
   ],
   "source": [
    "# %load test_fizz_buzz.py\n",
    "from nose.tools import assert_equal, assert_raises\n",
    "\n",
    "\n",
    "class TestFizzBuzz(object):\n",
    "\n",
    "    def test_fizz_buzz(self):\n",
    "        solution = Solution()\n",
    "        assert_raises(TypeError, solution.fizz_buzz, None)\n",
    "        assert_raises(ValueError, solution.fizz_buzz, 0)\n",
    "        expected = [\n",
    "            '1',\n",
    "            '2',\n",
    "            'Fizz',\n",
    "            '4',\n",
    "            'Buzz',\n",
    "            'Fizz',\n",
    "            '7',\n",
    "            '8',\n",
    "            'Fizz',\n",
    "            'Buzz',\n",
    "            '11',\n",
    "            'Fizz',\n",
    "            '13',\n",
    "            '14',\n",
    "            'FizzBuzz'\n",
    "        ]\n",
    "        assert_equal(solution.fizz_buzz(15), expected)\n",
    "        print('Success: test_fizz_buzz')\n",
    "\n",
    "\n",
    "def main():\n",
    "    test = TestFizzBuzz()\n",
    "    test.test_fizz_buzz()\n",
    "\n",
    "\n",
    "if __name__ == '__main__':\n",
    "    main()"
   ]
  },
  {
   "cell_type": "markdown",
   "metadata": {},
   "source": [
    "## Solution Notebook\n",
    "\n",
    "Review the [Solution Notebook](http://nbviewer.ipython.org/github/donnemartin/interactive-coding-challenges/blob/master/arrays_strings/fizz_buzz/fizz_buzz_solution.ipynb) for a discussion on algorithms and code solutions."
   ]
  }
 ],
 "metadata": {
  "kernelspec": {
   "display_name": "Python 3",
   "language": "python",
   "name": "python3"
  },
  "language_info": {
   "codemirror_mode": {
    "name": "ipython",
    "version": 3
   },
   "file_extension": ".py",
   "mimetype": "text/x-python",
   "name": "python",
   "nbconvert_exporter": "python",
   "pygments_lexer": "ipython3",
   "version": "3.6.0"
  }
 },
 "nbformat": 4,
 "nbformat_minor": 0
}
