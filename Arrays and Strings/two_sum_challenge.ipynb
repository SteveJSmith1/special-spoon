{
 "cells": [
  {
   "cell_type": "markdown",
   "metadata": {},
   "source": [
    "# Two Sum\n",
    "# Challenge Notebook"
   ]
  },
  {
   "cell_type": "markdown",
   "metadata": {},
   "source": [
    "Solution implemented by [SteveJSmith](https://github.com/SteveJSmith1)"
   ]
  },
  {
   "cell_type": "markdown",
   "metadata": {},
   "source": [
    "This notebook was prepared by [Donne Martin](https://github.com/donnemartin). Source and license info is on [GitHub](https://github.com/donnemartin/interactive-coding-challenges)."
   ]
  },
  {
   "cell_type": "markdown",
   "metadata": {},
   "source": [
    "## Problem: Given an array, find the two indices that sum to a specific value.\n",
    "\n",
    "* [Constraints](#Constraints)\n",
    "* [Test Cases](#Test-Cases)\n",
    "* [Algorithm](#Algorithm)\n",
    "* [Code](#Code)\n",
    "* [Unit Test](#Unit-Test)\n",
    "* [Solution Notebook](#Solution-Notebook)"
   ]
  },
  {
   "cell_type": "markdown",
   "metadata": {},
   "source": [
    "## Constraints\n",
    "\n",
    "* Is there exactly one solution?\n",
    "    * Yes\n",
    "* Is there always a solution?\n",
    "    * Yes\n",
    "* Is the array an array of ints?\n",
    "    * Yes\n",
    "* Is the array sorted?\n",
    "    No\n",
    "* Are negative values possible?\n",
    "    * Yes\n",
    "* Can we assume the inputs are valid?\n",
    "    * No\n",
    "* Can we assume this fits memory?\n",
    "    * Yes"
   ]
  },
  {
   "cell_type": "markdown",
   "metadata": {},
   "source": [
    "## Test Cases\n",
    "\n",
    "* None input -> TypeError\n",
    "* [] -> ValueError\n",
    "* [1, 3, 2, -7, 5], 7 -> [2, 4]"
   ]
  },
  {
   "cell_type": "markdown",
   "metadata": {},
   "source": [
    "## Algorithm\n",
    "\n",
    "* Check input for errors\n",
    "* Brute force the summation:\n",
    "    * for i in nums:\n",
    "        "
   ]
  },
  {
   "cell_type": "markdown",
   "metadata": {},
   "source": [
    "## Code"
   ]
  },
  {
   "cell_type": "code",
   "execution_count": 48,
   "metadata": {
    "collapsed": false
   },
   "outputs": [],
   "source": [
    "class Solution(object):\n",
    "\n",
    "    def two_sum(self, nums, target):\n",
    "        # Raising input errors\n",
    "        if nums == None or target == None:\n",
    "            raise TypeError(\"nums and target cannot be NoneType\")\n",
    "        if not nums:\n",
    "            raise ValueError(\"nums cannot be empty\")\n",
    "        \n",
    "        # Brute force checking each element pair\n",
    "        for i in nums:\n",
    "            for j in nums:\n",
    "                if i+j == target:\n",
    "                    # Stops at the first occurence and returns\n",
    "                    # the index\n",
    "                    return [nums.index(i),nums.index(j)]\n",
    "        return None"
   ]
  },
  {
   "cell_type": "code",
   "execution_count": 35,
   "metadata": {
    "collapsed": false
   },
   "outputs": [
    {
     "data": {
      "text/plain": [
       "[2, 4]"
      ]
     },
     "execution_count": 35,
     "metadata": {},
     "output_type": "execute_result"
    }
   ],
   "source": [
    "vals = [1, 3, 2, -7, 5], 7\n",
    "lv = vals[0]\n",
    "target = vals[1]\n",
    "\n",
    "sol = []\n",
    "for i in range(len(lv)):\n",
    "    for j in range(len(lv)):\n",
    "        if lv[i]+lv[j] == target:\n",
    "            sol.append([i,j])\n",
    "sol[0]\n",
    "\n"
   ]
  },
  {
   "cell_type": "markdown",
   "metadata": {},
   "source": [
    "## Unit Test"
   ]
  },
  {
   "cell_type": "markdown",
   "metadata": {},
   "source": [
    "**The following unit test is expected to fail until you solve the challenge.**"
   ]
  },
  {
   "cell_type": "code",
   "execution_count": 49,
   "metadata": {
    "collapsed": false
   },
   "outputs": [
    {
     "name": "stdout",
     "output_type": "stream",
     "text": [
      "Success: test_two_sum\n"
     ]
    }
   ],
   "source": [
    "# %load test_two_sum.py\n",
    "from nose.tools import assert_equal, assert_raises\n",
    "\n",
    "\n",
    "class TestTwoSum(object):\n",
    "\n",
    "    def test_two_sum(self):\n",
    "        solution = Solution()\n",
    "        assert_raises(TypeError, solution.two_sum, None, None)\n",
    "        assert_raises(ValueError, solution.two_sum, [], 0)\n",
    "        target = 7\n",
    "        nums = [1, 3, 2, -7, 5]\n",
    "        expected = [2, 4]\n",
    "        assert_equal(solution.two_sum(nums, target), expected)\n",
    "        print('Success: test_two_sum')\n",
    "\n",
    "\n",
    "def main():\n",
    "    test = TestTwoSum()\n",
    "    test.test_two_sum()\n",
    "\n",
    "\n",
    "if __name__ == '__main__':\n",
    "    main()"
   ]
  },
  {
   "cell_type": "markdown",
   "metadata": {},
   "source": [
    "## Solution Notebook\n",
    "\n",
    "Review the [Solution Notebook]() for a discussion on algorithms and code solutions."
   ]
  }
 ],
 "metadata": {
  "kernelspec": {
   "display_name": "Python 3",
   "language": "python",
   "name": "python3"
  },
  "language_info": {
   "codemirror_mode": {
    "name": "ipython",
    "version": 3
   },
   "file_extension": ".py",
   "mimetype": "text/x-python",
   "name": "python",
   "nbconvert_exporter": "python",
   "pygments_lexer": "ipython3",
   "version": "3.6.0"
  }
 },
 "nbformat": 4,
 "nbformat_minor": 0
}
